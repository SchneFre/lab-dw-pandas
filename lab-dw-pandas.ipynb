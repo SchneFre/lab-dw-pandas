{
 "cells": [
  {
   "cell_type": "markdown",
   "id": "25d7736c-ba17-4aff-b6bb-66eba20fbf4e",
   "metadata": {},
   "source": [
    "# Lab | Pandas"
   ]
  },
  {
   "cell_type": "markdown",
   "id": "d1973e9e-8be6-4039-b70e-d73ee0d94c99",
   "metadata": {},
   "source": [
    "In this lab, we will be working with the customer data from an insurance company, which can be found in the CSV file located at the following link: https://raw.githubusercontent.com/data-bootcamp-v4/data/main/file1.csv\n",
    "\n",
    "The data includes information such as customer ID, state, gender, education, income, and other variables that can be used to perform various analyses.\n",
    "\n",
    "Throughout the lab, we will be using the pandas library in Python to manipulate and analyze the data. Pandas is a powerful library that provides various data manipulation and analysis tools, including the ability to load and manipulate data from a variety of sources, including CSV files."
   ]
  },
  {
   "cell_type": "markdown",
   "id": "8045146f-f4f7-44d9-8cd9-130d6400c73a",
   "metadata": {},
   "source": [
    "### Data Description\n",
    "\n",
    "- Customer - Customer ID\n",
    "\n",
    "- ST - State where customers live\n",
    "\n",
    "- Gender - Gender of the customer\n",
    "\n",
    "- Education - Background education of customers \n",
    "\n",
    "- Customer Lifetime Value - Customer lifetime value(CLV) is the total revenue the client will derive from their entire relationship with a customer. In other words, is the predicted or calculated value of a customer over their entire duration as a policyholder with the insurance company. It is an estimation of the net profit that the insurance company expects to generate from a customer throughout their relationship with the company. Customer Lifetime Value takes into account factors such as the duration of the customer's policy, premium payments, claim history, renewal likelihood, and potential additional services or products the customer may purchase. It helps insurers assess the long-term profitability and value associated with retaining a particular customer.\n",
    "\n",
    "- Income - Customers income\n",
    "\n",
    "- Monthly Premium Auto - Amount of money the customer pays on a monthly basis as a premium for their auto insurance coverage. It represents the recurring cost that the insured person must pay to maintain their insurance policy and receive coverage for potential damages, accidents, or other covered events related to their vehicle.\n",
    "\n",
    "- Number of Open Complaints - Number of complaints the customer opened\n",
    "\n",
    "- Policy Type - There are three type of policies in car insurance (Corporate Auto, Personal Auto, and Special Auto)\n",
    "\n",
    "- Vehicle Class - Type of vehicle classes that customers have Two-Door Car, Four-Door Car SUV, Luxury SUV, Sports Car, and Luxury Car\n",
    "\n",
    "- Total Claim Amount - the sum of all claims made by the customer. It represents the total monetary value of all approved claims for incidents such as accidents, theft, vandalism, or other covered events.\n"
   ]
  },
  {
   "cell_type": "markdown",
   "id": "3a72419b-20fc-4905-817a-8c83abc59de6",
   "metadata": {},
   "source": [
    "External Resources: https://towardsdatascience.com/filtering-data-frames-in-pandas-b570b1f834b9"
   ]
  },
  {
   "cell_type": "markdown",
   "id": "8f8ece17-e919-4e23-96c0-c7c59778436a",
   "metadata": {},
   "source": [
    "## Challenge 1: Understanding the data\n",
    "\n",
    "In this challenge, you will use pandas to explore a given dataset. Your task is to gain a deep understanding of the data by analyzing its characteristics, dimensions, and statistical properties."
   ]
  },
  {
   "cell_type": "markdown",
   "id": "91437bd5-59a6-49c0-8150-ef0e6e6eb253",
   "metadata": {},
   "source": [
    "- Identify the dimensions of the dataset by determining the number of rows and columns it contains.\n",
    "- Determine the data types of each column and evaluate whether they are appropriate for the nature of the variable. You should also provide suggestions for fixing any incorrect data types.\n",
    "- Identify the number of unique values for each column and determine which columns appear to be categorical. You should also describe the unique values of each categorical column and the range of values for numerical columns, and give your insights.\n",
    "- Compute summary statistics such as mean, median, mode, standard deviation, and quartiles to understand the central tendency and distribution of the data for numerical columns. You should also provide your conclusions based on these summary statistics.\n",
    "- Compute summary statistics for categorical columns and providing your conclusions based on these statistics."
   ]
  },
  {
   "cell_type": "code",
   "execution_count": null,
   "id": "dd4e8cd8-a6f6-486c-a5c4-1745b0c035f4",
   "metadata": {},
   "outputs": [
    {
     "data": {
      "text/html": [
       "<div>\n",
       "<style scoped>\n",
       "    .dataframe tbody tr th:only-of-type {\n",
       "        vertical-align: middle;\n",
       "    }\n",
       "\n",
       "    .dataframe tbody tr th {\n",
       "        vertical-align: top;\n",
       "    }\n",
       "\n",
       "    .dataframe thead th {\n",
       "        text-align: right;\n",
       "    }\n",
       "</style>\n",
       "<table border=\"1\" class=\"dataframe\">\n",
       "  <thead>\n",
       "    <tr style=\"text-align: right;\">\n",
       "      <th></th>\n",
       "      <th>Income</th>\n",
       "      <th>Monthly Premium Auto</th>\n",
       "      <th>Total Claim Amount</th>\n",
       "    </tr>\n",
       "  </thead>\n",
       "  <tbody>\n",
       "    <tr>\n",
       "      <th>count</th>\n",
       "      <td>1071.000000</td>\n",
       "      <td>1071.000000</td>\n",
       "      <td>1071.000000</td>\n",
       "    </tr>\n",
       "    <tr>\n",
       "      <th>mean</th>\n",
       "      <td>39295.701214</td>\n",
       "      <td>193.234360</td>\n",
       "      <td>404.986909</td>\n",
       "    </tr>\n",
       "    <tr>\n",
       "      <th>std</th>\n",
       "      <td>30469.427060</td>\n",
       "      <td>1601.190369</td>\n",
       "      <td>293.027260</td>\n",
       "    </tr>\n",
       "    <tr>\n",
       "      <th>min</th>\n",
       "      <td>0.000000</td>\n",
       "      <td>61.000000</td>\n",
       "      <td>0.382107</td>\n",
       "    </tr>\n",
       "    <tr>\n",
       "      <th>25%</th>\n",
       "      <td>14072.000000</td>\n",
       "      <td>68.000000</td>\n",
       "      <td>202.157702</td>\n",
       "    </tr>\n",
       "    <tr>\n",
       "      <th>50%</th>\n",
       "      <td>36234.000000</td>\n",
       "      <td>83.000000</td>\n",
       "      <td>354.729129</td>\n",
       "    </tr>\n",
       "    <tr>\n",
       "      <th>75%</th>\n",
       "      <td>64631.000000</td>\n",
       "      <td>109.500000</td>\n",
       "      <td>532.800000</td>\n",
       "    </tr>\n",
       "    <tr>\n",
       "      <th>max</th>\n",
       "      <td>99960.000000</td>\n",
       "      <td>35354.000000</td>\n",
       "      <td>2893.239678</td>\n",
       "    </tr>\n",
       "  </tbody>\n",
       "</table>\n",
       "</div>"
      ],
      "text/plain": [
       "             Income  Monthly Premium Auto  Total Claim Amount\n",
       "count   1071.000000           1071.000000         1071.000000\n",
       "mean   39295.701214            193.234360          404.986909\n",
       "std    30469.427060           1601.190369          293.027260\n",
       "min        0.000000             61.000000            0.382107\n",
       "25%    14072.000000             68.000000          202.157702\n",
       "50%    36234.000000             83.000000          354.729129\n",
       "75%    64631.000000            109.500000          532.800000\n",
       "max    99960.000000          35354.000000         2893.239678"
      ]
     },
     "execution_count": 35,
     "metadata": {},
     "output_type": "execute_result"
    }
   ],
   "source": [
    "# Your code here\n",
    "import pandas as pd\n",
    "\n",
    "data_df = pd.read_csv(\"https://raw.githubusercontent.com/data-bootcamp-v4/data/main/file1.csv\")\n",
    "\n",
    "column_count = len(data_df.columns) # 11 Columns\n",
    "row_count = data_df.size # 44088 Rows\n",
    "# data_df.info()\n",
    "\"\"\"\n",
    " 0   Customer                   1071 non-null   object \n",
    " 1   ST                         1071 non-null   object \n",
    " 2   GENDER                     954 non-null    object \n",
    " 3   Education                  1071 non-null   object \n",
    " 4   Customer Lifetime Value    1068 non-null   object  -> could be number (float64)\n",
    " 5   Income                     1071 non-null   float64\n",
    " 6   Monthly Premium Auto       1071 non-null   float64\n",
    " 7   Number of Open Complaints  1071 non-null   object  -> could be number (int)\n",
    " 8   Policy Type                1071 non-null   object \n",
    " 9   Vehicle Class              1071 non-null   object \n",
    " 10  Total Claim Amount         1071 non-null   float64\n",
    "\n",
    "\"\"\"\n",
    "\n",
    "\"\"\"\n",
    "number of unique values:\n",
    "Unique Customers: 1071\n",
    "Unique States (ST): 8\n",
    "Unique Genders: 5\n",
    "Unique Education Levels: 6\n",
    "Unique Customer Lifetime Values: 1027\n",
    "Unique Incomes: 774\n",
    "Unique Monthly Premium Auto: 132\n",
    "Unique Open Complaints: 6\n",
    "Unique Policy Types: 3\n",
    "Unique Vehicle Classes: 6\n",
    "Unique Total Claim Amounts: 761\n",
    "\"\"\"\n",
    "\n",
    "nunique_customer = data_df[\"Customer\"].nunique() \n",
    "nunique_st = data_df[\"ST\"].nunique() \n",
    "nunique_gender = data_df[\"GENDER\"].nunique() \n",
    "nunique_education = data_df[\"Education\"].nunique() \n",
    "nunique_clv= data_df[\"Customer Lifetime Value\"].nunique() \n",
    "nunique_income = data_df[\"Income\"].nunique() \n",
    "nunique_mpa = data_df[\"Monthly Premium Auto\"].nunique() \n",
    "nunique_complaints = data_df[\"Number of Open Complaints\"].nunique() \n",
    "nunique_policy_type= data_df[\"Policy Type\"].nunique() \n",
    "nunique_vehicleClass = data_df[\"Vehicle Class\"].nunique() \n",
    "nunique_total = data_df[\"Total Claim Amount\"].nunique() \n",
    "\n",
    "# # Print each variable\n",
    "# print(f\"Unique Customers: {nunique_customer}\")\n",
    "# print(f\"Unique States (ST): {nunique_st}\")\n",
    "# print(f\"Unique Genders: {nunique_gender}\")\n",
    "# print(f\"Unique Education Levels: {nunique_education}\")\n",
    "# print(f\"Unique Customer Lifetime Values: {nunique_clv}\")\n",
    "# print(f\"Unique Incomes: {nunique_income}\")\n",
    "# print(f\"Unique Monthly Premium Auto: {nunique_mpa}\")\n",
    "# print(f\"Unique Open Complaints: {nunique_complaints}\")\n",
    "# print(f\"Unique Policy Types: {nunique_policy_type}\")\n",
    "# print(f\"Unique Vehicle Classes: {nunique_vehicleClass}\")\n",
    "# print(f\"Unique Total Claim Amounts: {nunique_total}\")\n",
    "\n",
    "\"\"\"\n",
    "Categorical Columns: \n",
    "    Criteria: Low Cardinality & Nature of the Values\n",
    " - States (ST)\n",
    " - Genders\n",
    " - Education Levels\n",
    " - Policy Types\n",
    " - Vehicle Classes\n",
    "\n",
    "\"\"\"\n",
    "# Get unique values for each column\n",
    "unique_customer = data_df[\"Customer\"].unique()\n",
    "unique_st = data_df[\"ST\"].unique()\n",
    "unique_gender = data_df[\"GENDER\"].unique()\n",
    "unique_education = data_df[\"Education\"].unique()\n",
    "unique_clv = data_df[\"Customer Lifetime Value\"].unique()\n",
    "unique_income = data_df[\"Income\"].unique()\n",
    "unique_mpa = data_df[\"Monthly Premium Auto\"].unique()\n",
    "unique_complaints = data_df[\"Number of Open Complaints\"].unique()\n",
    "unique_policy_type = data_df[\"Policy Type\"].unique()\n",
    "unique_vehicleClass = data_df[\"Vehicle Class\"].unique()\n",
    "unique_total = data_df[\"Total Claim Amount\"].unique()\n",
    "\n",
    "# Print each set of unique values\n",
    "# print(\"Unique States (ST):\", unique_st)\n",
    "# print(\"Unique Genders:\", unique_gender)\n",
    "# print(\"Unique Education Levels:\", unique_education)\n",
    "# print(\"Unique Open Complaints:\", unique_complaints)\n",
    "# print(\"Unique Policy Types:\", unique_policy_type)\n",
    "# print(\"Unique Vehicle Classes:\", unique_vehicleClass)\n",
    "\"\"\"\n",
    "Unique States (ST): ['Washington' 'Arizona' 'Nevada' 'California' 'Oregon' 'Cali' 'AZ' 'WA' nan]\n",
    "Unique Genders: [nan 'F' 'M' 'Femal' 'Male' 'female']\n",
    "Unique Education Levels: ['Master' 'Bachelor' 'High School or Below' 'College' 'Bachelors' 'Doctor' nan]\n",
    "Unique Policy Types: ['Personal Auto' 'Corporate Auto' 'Special Auto' nan]\n",
    "Unique Vehicle Classes: ['Four-Door Car' 'Two-Door Car' 'SUV' 'Luxury SUV' 'Sports Car' 'Luxury Car' nan]\n",
    "\"\"\"\n",
    "\n",
    "data_df.describe()\n",
    "\n",
    "\"\"\"\n",
    "Income\tMonthly Premium Auto\tTotal Claim Amount\n",
    "count\t1071.000000\t1071.000000\t1071.000000\n",
    "mean\t39295.701214\t193.234360\t404.986909\n",
    "std\t30469.427060\t1601.190369\t293.027260\n",
    "min\t0.000000\t61.000000\t0.382107\n",
    "25%\t14072.000000\t68.000000\t202.157702\n",
    "50%\t36234.000000\t83.000000\t354.729129\n",
    "75%\t64631.000000\t109.500000\t532.800000\n",
    "max\t99960.000000\t35354.000000\t2893.239678\n",
    "\n",
    "conclusions:\n",
    "    monthly premium auto has a much higher mean than median -> has outliers also indicated by the very high max value of 35354\n",
    "    for the other two columns mean and median are closer together -> fewer outliers\n",
    "\n",
    "categorical data conclusions:\n",
    "    geners are misspelled -> there should only be two \n",
    "    education levels has duplicate bachelors degree. College is an unspecific version of Bachelor, master, doctor\n",
    "\"\"\""
   ]
  },
  {
   "cell_type": "markdown",
   "id": "4a703890-63db-4944-b7ab-95a4f8185120",
   "metadata": {},
   "source": [
    "## Challenge 2: analyzing the data"
   ]
  },
  {
   "cell_type": "markdown",
   "id": "0776a403-c56a-452f-ac33-5fd4fdb06fc7",
   "metadata": {},
   "source": [
    "### Exercise 1"
   ]
  },
  {
   "cell_type": "markdown",
   "id": "eedbc484-da4d-4f9c-9343-e1d44311a87e",
   "metadata": {},
   "source": [
    "The marketing team wants to know the top 5 less common customer locations. Create a pandas Series object that contains the customer locations and their frequencies, and then retrieve the top 5 less common locations in ascending order."
   ]
  },
  {
   "cell_type": "code",
   "execution_count": null,
   "id": "2dca5073-4520-4f42-9390-4b92733284ed",
   "metadata": {},
   "outputs": [
    {
     "data": {
      "text/plain": [
       "ST\n",
       "AZ             25\n",
       "WA             30\n",
       "Washington     81\n",
       "Nevada         98\n",
       "Cali          120\n",
       "Name: count, dtype: int64"
      ]
     },
     "execution_count": 41,
     "metadata": {},
     "output_type": "execute_result"
    }
   ],
   "source": [
    "# Your code here\n",
    "location_counts = data_df[\"ST\"].value_counts()\n",
    "worst_5 = location_counts.sort_values().head(5)\n",
    "#len(location_counts) 8 in total (including nan)\n",
    "\"\"\" \n",
    "ST\n",
    "AZ             25\n",
    "WA             30\n",
    "Washington     81\n",
    "Nevada         98\n",
    "Cali          120\n",
    "\"\"\"\n",
    "worst_5"
   ]
  },
  {
   "cell_type": "markdown",
   "id": "0ce80f43-4afa-43c7-a78a-c917444da4e0",
   "metadata": {},
   "source": [
    "### Exercise 2\n",
    "\n",
    "The sales team wants to know the total number of policies sold for each type of policy. Create a pandas Series object that contains the policy types and their total number of policies sold, and then retrieve the policy type with the highest number of policies sold."
   ]
  },
  {
   "cell_type": "markdown",
   "id": "a9f13997-1555-4f98-aca6-970fda1d2c3f",
   "metadata": {},
   "source": [
    "*Hint:*\n",
    "- *Using value_counts() method simplifies this analysis.*\n",
    "- *Futhermore, there is a method that returns the index of the maximum value in a column or row.*\n"
   ]
  },
  {
   "cell_type": "code",
   "execution_count": null,
   "id": "bcfad6c1-9af2-4b0b-9aa9-0dc5c17473c0",
   "metadata": {},
   "outputs": [
    {
     "name": "stdout",
     "output_type": "stream",
     "text": [
      "Policy Type    Personal Auto\n",
      "Count                    780\n",
      "Name: 2, dtype: object\n"
     ]
    }
   ],
   "source": [
    "# Your code here\n",
    "policies_df = data_df[\"Policy Type\"].value_counts().sort_values().reset_index()\n",
    "policies_df.columns = ['Policy Type', 'Count']\n",
    "most_popular_policy_row = policies_df.iloc[-1]\n",
    "print(most_popular_policy_row) # personal Auto"
   ]
  },
  {
   "cell_type": "markdown",
   "id": "0b863fd3-bf91-4d5d-86eb-be29ed9f5b70",
   "metadata": {},
   "source": [
    "### Exercise 3\n",
    "\n",
    "The sales team wants to know if customers with Personal Auto have a lower income than those with Corporate Auto. How does the average income compare between the two policy types?"
   ]
  },
  {
   "cell_type": "markdown",
   "id": "b1386d75-2810-4aa1-93e0-9485aa12d552",
   "metadata": {},
   "source": [
    "- Use *loc* to create two dataframes: one containing only Personal Auto policies and one containing only Corporate Auto policies.\n",
    "- Calculate the average income for each policy.\n",
    "- Print the results."
   ]
  },
  {
   "cell_type": "code",
   "execution_count": null,
   "id": "0c0563cf-6f8b-463d-a321-651a972f82e5",
   "metadata": {},
   "outputs": [
    {
     "name": "stdout",
     "output_type": "stream",
     "text": [
      "peronal_auto_avg_income: 38180.69871794872\n",
      "corporate_auto_avg_income: 41390.31196581197\n"
     ]
    }
   ],
   "source": [
    "# Your code here\n",
    "personal_auto_df = data_df.loc[data_df[\"Policy Type\"] == \"Personal Auto\"]\n",
    "corporate_auto_df = data_df.loc[data_df[\"Policy Type\"] == \"Corporate Auto\"]\n",
    "peronal_auto_avg_income = personal_auto_df.Income.mean()\n",
    "corporate_auto_avg_income = corporate_auto_df.Income.mean()\n",
    "print(f\"peronal_auto_avg_income: {peronal_auto_avg_income}\")\n",
    "print(f\"corporate_auto_avg_income: {corporate_auto_avg_income}\")\n",
    "# People with corporate auto policy have a slightly higher average income (41k to 38k)"
   ]
  },
  {
   "cell_type": "markdown",
   "id": "80b16c27-f4a5-4727-a229-1f88671cf4e2",
   "metadata": {},
   "source": [
    "### Bonus: Exercise 4\n"
   ]
  },
  {
   "cell_type": "markdown",
   "id": "ac584986-299b-475f-ac2e-928c16c3f512",
   "metadata": {},
   "source": [
    "Your goal is to identify customers with a high policy claim amount.\n",
    "\n",
    "Instructions:\n",
    "\n",
    "- Review again the statistics for total claim amount to gain an understanding of the data.\n",
    "- To identify potential areas for improving customer retention and profitability, we want to focus on customers with a high policy claim amount. Consider customers with a high policy claim amount to be those in the top 25% of the total claim amount. Create a pandas DataFrame object that contains information about customers with a policy claim amount greater than the 75th percentile.\n",
    "- Use DataFrame methods to calculate summary statistics about the high policy claim amount data. "
   ]
  },
  {
   "cell_type": "markdown",
   "id": "4e3af5f1-6023-4b05-9c01-d05392daa650",
   "metadata": {},
   "source": [
    "*Note: When analyzing data, we often want to focus on certain groups of values to gain insights. Percentiles are a useful tool to help us define these groups. A percentile is a measure that tells us what percentage of values in a dataset are below a certain value. For example, the 75th percentile represents the value below which 75% of the data falls. Similarly, the 25th percentile represents the value below which 25% of the data falls. When we talk about the top 25%, we are referring to the values that fall above the 75th percentile, which represent the top quarter of the data. On the other hand, when we talk about the bottom 25%, we are referring to the values that fall below the 25th percentile, which represent the bottom quarter of the data. By focusing on these groups, we can identify patterns and trends that may be useful for making decisions and taking action.*\n",
    "\n",
    "*Hint: look for a method that gives you the percentile or quantile 0.75 and 0.25 for a Pandas Series.*"
   ]
  },
  {
   "cell_type": "markdown",
   "id": "2d234634-50bd-41e0-88f7-d5ba684455d1",
   "metadata": {},
   "source": [
    "*Hint 2: check `Boolean selection according to the values of a single column` in https://towardsdatascience.com/filtering-data-frames-in-pandas-b570b1f834b9*"
   ]
  },
  {
   "cell_type": "code",
   "execution_count": null,
   "id": "b731bca6-a760-4860-a27b-a33efa712ce0",
   "metadata": {},
   "outputs": [
    {
     "data": {
      "text/html": [
       "<div>\n",
       "<style scoped>\n",
       "    .dataframe tbody tr th:only-of-type {\n",
       "        vertical-align: middle;\n",
       "    }\n",
       "\n",
       "    .dataframe tbody tr th {\n",
       "        vertical-align: top;\n",
       "    }\n",
       "\n",
       "    .dataframe thead th {\n",
       "        text-align: right;\n",
       "    }\n",
       "</style>\n",
       "<table border=\"1\" class=\"dataframe\">\n",
       "  <thead>\n",
       "    <tr style=\"text-align: right;\">\n",
       "      <th></th>\n",
       "      <th>Income</th>\n",
       "      <th>Monthly Premium Auto</th>\n",
       "      <th>Total Claim Amount</th>\n",
       "    </tr>\n",
       "  </thead>\n",
       "  <tbody>\n",
       "    <tr>\n",
       "      <th>count</th>\n",
       "      <td>273.000000</td>\n",
       "      <td>273.000000</td>\n",
       "      <td>273.000000</td>\n",
       "    </tr>\n",
       "    <tr>\n",
       "      <th>mean</th>\n",
       "      <td>24106.545788</td>\n",
       "      <td>163.000000</td>\n",
       "      <td>774.005353</td>\n",
       "    </tr>\n",
       "    <tr>\n",
       "      <th>std</th>\n",
       "      <td>27542.717560</td>\n",
       "      <td>613.645376</td>\n",
       "      <td>291.304731</td>\n",
       "    </tr>\n",
       "    <tr>\n",
       "      <th>min</th>\n",
       "      <td>0.000000</td>\n",
       "      <td>63.000000</td>\n",
       "      <td>532.800000</td>\n",
       "    </tr>\n",
       "    <tr>\n",
       "      <th>25%</th>\n",
       "      <td>0.000000</td>\n",
       "      <td>99.000000</td>\n",
       "      <td>595.200000</td>\n",
       "    </tr>\n",
       "    <tr>\n",
       "      <th>50%</th>\n",
       "      <td>18846.000000</td>\n",
       "      <td>113.000000</td>\n",
       "      <td>673.342650</td>\n",
       "    </tr>\n",
       "    <tr>\n",
       "      <th>75%</th>\n",
       "      <td>44897.000000</td>\n",
       "      <td>133.000000</td>\n",
       "      <td>844.481918</td>\n",
       "    </tr>\n",
       "    <tr>\n",
       "      <th>max</th>\n",
       "      <td>99316.000000</td>\n",
       "      <td>10202.000000</td>\n",
       "      <td>2893.239678</td>\n",
       "    </tr>\n",
       "  </tbody>\n",
       "</table>\n",
       "</div>"
      ],
      "text/plain": [
       "             Income  Monthly Premium Auto  Total Claim Amount\n",
       "count    273.000000            273.000000          273.000000\n",
       "mean   24106.545788            163.000000          774.005353\n",
       "std    27542.717560            613.645376          291.304731\n",
       "min        0.000000             63.000000          532.800000\n",
       "25%        0.000000             99.000000          595.200000\n",
       "50%    18846.000000            113.000000          673.342650\n",
       "75%    44897.000000            133.000000          844.481918\n",
       "max    99316.000000          10202.000000         2893.239678"
      ]
     },
     "execution_count": 61,
     "metadata": {},
     "output_type": "execute_result"
    }
   ],
   "source": [
    "# Your code here\n",
    "\n",
    "p75 = data_df[\"Total Claim Amount\"].quantile(0.75)\n",
    "data_q75 = data_df[data_df[\"Total Claim Amount\"] >= p75]\n",
    "\n",
    "data_q75.describe()\n"
   ]
  }
 ],
 "metadata": {
  "kernelspec": {
   "display_name": "Python 3",
   "language": "python",
   "name": "python3"
  },
  "language_info": {
   "codemirror_mode": {
    "name": "ipython",
    "version": 3
   },
   "file_extension": ".py",
   "mimetype": "text/x-python",
   "name": "python",
   "nbconvert_exporter": "python",
   "pygments_lexer": "ipython3",
   "version": "3.9.13"
  }
 },
 "nbformat": 4,
 "nbformat_minor": 5
}
